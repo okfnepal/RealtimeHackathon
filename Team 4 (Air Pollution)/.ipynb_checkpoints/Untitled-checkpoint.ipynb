{
 "cells": [
  {
   "cell_type": "code",
   "execution_count": 112,
   "metadata": {
    "extensions": {
     "jupyter_dashboards": {
      "version": 1,
      "views": {
       "grid_default": {},
       "report_default": {}
      }
     }
    }
   },
   "outputs": [],
   "source": [
    "import pandas as pd\n",
    "import numpy as np\n",
    "import matplotlib\n",
    "import matplotlib.pyplot as plt\n",
    "import matplotlib.dates\n",
    "import pylab \n",
    "import ipywidgets as widgets\n",
    "matplotlib.use('Qt5Agg')"
   ]
  },
  {
   "cell_type": "code",
   "execution_count": 113,
   "metadata": {
    "extensions": {
     "jupyter_dashboards": {
      "version": 1,
      "views": {
       "grid_default": {},
       "report_default": {}
      }
     }
    }
   },
   "outputs": [],
   "source": [
    "import datetime\n",
    "import calendar"
   ]
  },
  {
   "cell_type": "code",
   "execution_count": 114,
   "metadata": {
    "extensions": {
     "jupyter_dashboards": {
      "version": 1,
      "views": {
       "grid_default": {},
       "report_default": {}
      }
     }
    }
   },
   "outputs": [],
   "source": [
    "#findDay function for days\n",
    "\n",
    "def findDay(date): \n",
    "    born = datetime.datetime.strptime(date, '%Y %m %d').weekday() \n",
    "    return (calendar.day_name[born]) \n",
    "  "
   ]
  },
  {
   "cell_type": "code",
   "execution_count": 115,
   "metadata": {
    "extensions": {
     "jupyter_dashboards": {
      "version": 1,
      "views": {
       "grid_default": {},
       "report_default": {}
      }
     }
    }
   },
   "outputs": [],
   "source": [
    "#import csv\n",
    "\n",
    "df_bhaisipati = pd.read_csv('bhaisipati_ktm.csv')\n",
    "df_ratnapark = pd.read_csv('Ratnapark.csv')\n",
    "df_sauraha = pd.read_csv('Sauraha_Chitwan.csv')\n",
    "# df"
   ]
  },
  {
   "cell_type": "code",
   "execution_count": 116,
   "metadata": {
    "extensions": {
     "jupyter_dashboards": {
      "version": 1,
      "views": {
       "grid_default": {},
       "report_default": {}
      }
     }
    }
   },
   "outputs": [],
   "source": [
    "#update dataframe with day\n",
    "\n",
    "#bhaisipati\n",
    "local_date_time_bhaisipati = df_bhaisipati.localDateTime\n",
    "local_date_bhaisipati = [x[:10].replace(\"-\",\" \") for x in local_date_time_bhaisipati]\n",
    "df_bhaisipati[\"Day\"] = [findDay(local_date_i) for local_date_i in local_date_bhaisipati]\n",
    "# df.columns\n",
    "\n",
    "#Sauraha\n",
    "local_date_time_sauraha = df_sauraha.localDateTime\n",
    "local_date_sauraha = [x[:10].replace(\"-\",\" \") for x in local_date_time_sauraha]\n",
    "df_sauraha[\"Day\"] = [findDay(local_date_i) for local_date_i in local_date_sauraha]\n",
    "\n",
    "#Ratnapark\n",
    "local_date_time_ratnapark = df_ratnapark.localDateTime\n",
    "local_date_ratnapark = [x[:10].replace(\"-\",\" \") for x in local_date_time_ratnapark]\n",
    "df_ratnapark[\"Day\"] = [findDay(local_date_i) for local_date_i in local_date_ratnapark]"
   ]
  },
  {
   "cell_type": "code",
   "execution_count": 117,
   "metadata": {
    "extensions": {
     "jupyter_dashboards": {
      "version": 1,
      "views": {
       "grid_default": {},
       "report_default": {}
      }
     }
    }
   },
   "outputs": [],
   "source": [
    "#divide data in 4 time periods Morning, Afternoon, Evening, Night \n",
    "\n",
    "# bhaisipati\n",
    "x = list(df_bhaisipati[\"localDateTime\"])\n",
    "hr = []\n",
    "num_hr = []\n",
    "for i in x:\n",
    "    a1 = i.split(\" \")\n",
    "    date = a1[0]\n",
    "    time = a1[1]\n",
    "    hour = time.split(\":\")\n",
    "    if int(hour[0])>=6 and int(hour[0])<=12:\n",
    "        hr.append(\"Morning\")\n",
    "    elif int(hour[0])>12 and int(hour[0])<=17:\n",
    "        hr.append(\"Afternoon\")\n",
    "    elif int(hour[0])>17 and int(hour[0])<=20:\n",
    "        hr.append(\"Evening\")\n",
    "    else:\n",
    "        hr.append(\"Night\")\n",
    "    \n",
    "    num_hr.append(int(hour[0]))\n",
    "        \n",
    "df_bhaisipati[\"Time_section\"] = hr\n",
    "df_bhaisipati[\"time_hourly\"] = num_hr\n",
    "\n",
    "\n",
    "# sauraha\n",
    "x = list(df_sauraha[\"localDateTime\"])\n",
    "hr = []\n",
    "num_hr = []\n",
    "for i in x:\n",
    "    a1 = i.split(\" \")\n",
    "    date = a1[0]\n",
    "    time = a1[1]\n",
    "    hour = time.split(\":\")\n",
    "    if int(hour[0])>=6 and int(hour[0])<=12:\n",
    "        hr.append(\"Morning\")\n",
    "    elif int(hour[0])>12 and int(hour[0])<=17:\n",
    "        hr.append(\"Afternoon\")\n",
    "    elif int(hour[0])>17 and int(hour[0])<=20:\n",
    "        hr.append(\"Evening\")\n",
    "    else:\n",
    "        hr.append(\"Night\")\n",
    "    \n",
    "    num_hr.append(int(hour[0]))\n",
    "        \n",
    "df_sauraha[\"Time_section\"] = hr\n",
    "df_sauraha[\"time_hourly\"] = num_hr\n",
    "\n",
    "\n",
    "# ratnapark\n",
    "x = list(df_ratnapark[\"localDateTime\"])\n",
    "hr = []\n",
    "num_hr = []\n",
    "for i in x:\n",
    "    a1 = i.split(\" \")\n",
    "    date = a1[0]\n",
    "    time = a1[1]\n",
    "    hour = time.split(\":\")\n",
    "    if int(hour[0])>=6 and int(hour[0])<=12:\n",
    "        hr.append(\"Morning\")\n",
    "    elif int(hour[0])>12 and int(hour[0])<=17:\n",
    "        hr.append(\"Afternoon\")\n",
    "    elif int(hour[0])>17 and int(hour[0])<=20:\n",
    "        hr.append(\"Evening\")\n",
    "    else:\n",
    "        hr.append(\"Night\")\n",
    "    \n",
    "    num_hr.append(int(hour[0]))\n",
    "        \n",
    "df_ratnapark[\"Time_section\"] = hr\n",
    "df_ratnapark[\"time_hourly\"] = num_hr\n",
    "\n",
    "# df_bhaisipati\n",
    "# df_ratnapark\n",
    "# df_sauraha"
   ]
  },
  {
   "cell_type": "code",
   "execution_count": 118,
   "metadata": {
    "extensions": {
     "jupyter_dashboards": {
      "version": 1,
      "views": {
       "grid_default": {},
       "report_default": {}
      }
     }
    }
   },
   "outputs": [
    {
     "name": "stdout",
     "output_type": "stream",
     "text": [
      "['tsp' 'pm1' 'pm10' 'pm25']\n",
      "['tsp' 'pm1' 'pm10' 'pm25' 'blackcarbon']\n",
      "['tsp' 'pm1' 'pm10' 'pm25']\n"
     ]
    }
   ],
   "source": [
    "#finding parameters value in each csv\n",
    "\n",
    "df_parameters_unique_bhaisipati = df_bhaisipati.parameters.unique()\n",
    "df_parameters_unique_ratnapark = df_ratnapark.parameters.unique()\n",
    "df_parameters_unique_sauraha = df_sauraha.parameters.unique()\n",
    "print(df_parameters_unique_bhaisipati)\n",
    "print(df_parameters_unique_ratnapark)\n",
    "print(df_parameters_unique_sauraha)"
   ]
  },
  {
   "cell_type": "code",
   "execution_count": 119,
   "metadata": {
    "extensions": {
     "jupyter_dashboards": {
      "version": 1,
      "views": {
       "grid_default": {},
       "report_default": {}
      }
     }
    }
   },
   "outputs": [],
   "source": [
    "#Creating sub-dataframes according to parameters value\n",
    "\n",
    "#bhaisipati\n",
    "df_bhaisipati_tsp = df_bhaisipati[df_bhaisipati.parameters==\"tsp\"]\n",
    "df_bhaisipati_pm25 = df_bhaisipati[df_bhaisipati.parameters==\"pm25\"]\n",
    "df_bhaisipati_pm1 = df_bhaisipati[df_bhaisipati.parameters==\"pm1\"]\n",
    "df_bhaisipati_pm10 = df_bhaisipati[df_bhaisipati.parameters==\"pm10\"]\n",
    "\n",
    "#sauraha\n",
    "df_sauraha_tsp = df_sauraha[df_sauraha.parameters==\"tsp\"]\n",
    "df_sauraha_pm25 = df_sauraha[df_sauraha.parameters==\"pm25\"]\n",
    "df_sauraha_pm1 = df_sauraha[df_sauraha.parameters==\"pm1\"]\n",
    "df_sauraha_pm10 = df_sauraha[df_sauraha.parameters==\"pm10\"]  \n",
    "\n",
    "\n",
    "#ratnapark\n",
    "df_ratnapark_tsp = df_ratnapark[df_ratnapark.parameters==\"tsp\"]\n",
    "df_ratnapark_pm25 = df_ratnapark[df_ratnapark.parameters==\"pm25\"]\n",
    "df_ratnapark_pm1 = df_ratnapark[df_ratnapark.parameters==\"pm1\"]\n",
    "df_ratnapark_pm10 = df_ratnapark[df_ratnapark.parameters==\"pm10\"]\n",
    "df_ratnapark_blackcarbon = df_ratnapark[df_ratnapark.parameters==\"blackcarbon\"]\n",
    "\n",
    "\n",
    "\n",
    "# df_bhaisipati_tsp\n",
    "# df_ratnapark_tsp.value.max()\n",
    "# df_sauraha_tsp\n"
   ]
  },
  {
   "cell_type": "code",
   "execution_count": 120,
   "metadata": {
    "extensions": {
     "jupyter_dashboards": {
      "version": 1,
      "views": {
       "grid_default": {},
       "report_default": {}
      }
     }
    }
   },
   "outputs": [
    {
     "name": "stderr",
     "output_type": "stream",
     "text": [
      "/home/ashish/miniconda3/lib/python3.7/site-packages/ipykernel_launcher.py:18: SettingWithCopyWarning: \n",
      "A value is trying to be set on a copy of a slice from a DataFrame.\n",
      "Try using .loc[row_indexer,col_indexer] = value instead\n",
      "\n",
      "See the caveats in the documentation: http://pandas.pydata.org/pandas-docs/stable/indexing.html#indexing-view-versus-copy\n",
      "/home/ashish/miniconda3/lib/python3.7/site-packages/ipykernel_launcher.py:32: SettingWithCopyWarning: \n",
      "A value is trying to be set on a copy of a slice from a DataFrame.\n",
      "Try using .loc[row_indexer,col_indexer] = value instead\n",
      "\n",
      "See the caveats in the documentation: http://pandas.pydata.org/pandas-docs/stable/indexing.html#indexing-view-versus-copy\n",
      "/home/ashish/miniconda3/lib/python3.7/site-packages/ipykernel_launcher.py:46: SettingWithCopyWarning: \n",
      "A value is trying to be set on a copy of a slice from a DataFrame.\n",
      "Try using .loc[row_indexer,col_indexer] = value instead\n",
      "\n",
      "See the caveats in the documentation: http://pandas.pydata.org/pandas-docs/stable/indexing.html#indexing-view-versus-copy\n",
      "/home/ashish/miniconda3/lib/python3.7/site-packages/ipykernel_launcher.py:58: SettingWithCopyWarning: \n",
      "A value is trying to be set on a copy of a slice from a DataFrame.\n",
      "Try using .loc[row_indexer,col_indexer] = value instead\n",
      "\n",
      "See the caveats in the documentation: http://pandas.pydata.org/pandas-docs/stable/indexing.html#indexing-view-versus-copy\n",
      "/home/ashish/miniconda3/lib/python3.7/site-packages/ipykernel_launcher.py:72: SettingWithCopyWarning: \n",
      "A value is trying to be set on a copy of a slice from a DataFrame.\n",
      "Try using .loc[row_indexer,col_indexer] = value instead\n",
      "\n",
      "See the caveats in the documentation: http://pandas.pydata.org/pandas-docs/stable/indexing.html#indexing-view-versus-copy\n",
      "/home/ashish/miniconda3/lib/python3.7/site-packages/ipykernel_launcher.py:84: SettingWithCopyWarning: \n",
      "A value is trying to be set on a copy of a slice from a DataFrame.\n",
      "Try using .loc[row_indexer,col_indexer] = value instead\n",
      "\n",
      "See the caveats in the documentation: http://pandas.pydata.org/pandas-docs/stable/indexing.html#indexing-view-versus-copy\n"
     ]
    }
   ],
   "source": [
    "#tsp_values dataframe for all 3  #mean_hourly\n",
    "\n",
    "#bhaisipati\n",
    "mean_val_1 =[]\n",
    "x_hour = []\n",
    "x_week =[]\n",
    "week_days = ['Sunday','Monday','Tuesday','Wednesday','Thursday','Friday','Saturday']\n",
    "mean_val_1_week =[]\n",
    "for i in range(24):\n",
    "    x_hour.append(i)\n",
    "    mean_val_1.append(df_bhaisipati_tsp.loc[df_bhaisipati_tsp['time_hourly'] == i].value.mean())\n",
    "\n",
    "x = list(df_bhaisipati_tsp[\"time_hourly\"])\n",
    "mean_list_1 = [0]* len(x)\n",
    "for idx, val in enumerate(x):\n",
    "    mean_list_1[idx]=mean_val_1[val]\n",
    "    \n",
    "df_bhaisipati_tsp[\"mean_hourly\"] = mean_list_1\n",
    "\n",
    "    \n",
    "for j in range(7):\n",
    "    x_week.append(j)\n",
    "    mean_val_1_week.append(df_bhaisipati_tsp.loc[df_bhaisipati_tsp['Day'] == week_days[j]].value.mean())\n",
    "    \n",
    "    \n",
    "x_1 = list(df_bhaisipati_tsp[\"Day\"])\n",
    "mean_list_1_week = [0] * len(x_1)\n",
    "for idx, val in enumerate(x_1):\n",
    "    mean_list_1_week[idx]=mean_val_1_week[week_days.index(val)]\n",
    "    \n",
    "    \n",
    "df_bhaisipati_tsp[\"mean_days\"] = mean_list_1_week\n",
    "\n",
    "# pylab.plot(x_hour, mean_val_1, '-b', label='bhaisipati_tsp')\n",
    "\n",
    "#sauraha  \n",
    "mean_val_2 =[]\n",
    "for i in range(24):\n",
    "    mean_val_2.append(df_sauraha_tsp.loc[df_sauraha_tsp['time_hourly'] == i].value.mean())\n",
    "    \n",
    "x = list(df_sauraha_tsp[\"time_hourly\"])   \n",
    "mean_list_2 = [0]* len(x)\n",
    "for idx, val in enumerate(x):\n",
    "    mean_list_2[idx]=mean_val_2[val]\n",
    "    \n",
    "df_sauraha_tsp[\"mean_hourly\"] = mean_list_2\n",
    "\n",
    "mean_val_2_week =[]\n",
    "for j in range(7):\n",
    "    mean_val_2_week.append(df_sauraha_tsp.loc[df_sauraha_tsp['Day'] == week_days[j]].value.mean())\n",
    "    \n",
    "    \n",
    "x_1 = list(df_sauraha_tsp[\"Day\"])\n",
    "mean_list_2_week = [0] * len(x_1)\n",
    "for idx, val in enumerate(x_1):\n",
    "    mean_list_2_week[idx]=mean_val_2_week[week_days.index(val)]\n",
    "    \n",
    "df_sauraha_tsp[\"mean_days\"] = mean_list_2_week\n",
    "pylab.plot(x_hour, mean_val_2, '-c', label='sauraha_tsp')\n",
    "\n",
    "\n",
    "#ratnapark \n",
    "mean_val_3 =[]\n",
    "for i in range(24):\n",
    "    mean_val_3.append(df_ratnapark_tsp.loc[df_ratnapark_tsp['time_hourly'] == i].value.mean())\n",
    "    \n",
    "x = list(df_ratnapark_tsp[\"time_hourly\"]) \n",
    "mean_list_3 = [0]* len(x)\n",
    "for idx, val in enumerate(x):\n",
    "    mean_list_3[idx]=mean_val_3[val]\n",
    "    \n",
    "df_ratnapark_tsp[\"mean_hourly\"] = mean_list_3 \n",
    "\n",
    "mean_val_3_week =[]\n",
    "for j in range(7):\n",
    "    mean_val_3_week.append(df_ratnapark_tsp.loc[df_ratnapark_tsp['Day'] == week_days[j]].value.mean())\n",
    "    \n",
    "    \n",
    "x_1 = list(df_ratnapark_tsp[\"Day\"])\n",
    "mean_list_3_week = [0] * len(x_1)\n",
    "for idx, val in enumerate(x_1):\n",
    "    mean_list_3_week[idx]=mean_val_3_week[week_days.index(val)]\n",
    "    \n",
    "df_ratnapark_tsp[\"mean_days\"] = mean_list_3_week\n",
    "pylab.plot(x_hour, mean_val_3, '-m', label='ratnapark_tsp')\n",
    "\n",
    "pylab.legend(loc='upper left')\n",
    "pylab.show()\n"
   ]
  },
  {
   "cell_type": "code",
   "execution_count": 121,
   "metadata": {
    "extensions": {
     "jupyter_dashboards": {
      "version": 1,
      "views": {
       "grid_default": {},
       "report_default": {}
      }
     }
    }
   },
   "outputs": [],
   "source": [
    "# # pylab.plot(x_week, mean_val_1_week, '-b', label='bhaisipati_tsp')\n",
    "# pylab.plot(x_week, mean_val_2_week, '-r', label='sauraha_tsp')\n",
    "# pylab.plot(x_week, mean_val_3_week, '-g', label='ratnapark_tsp')\n",
    "# pylab.legend(loc='upper left')\n",
    "# pylab.show()\n"
   ]
  },
  {
   "cell_type": "code",
   "execution_count": 122,
   "metadata": {
    "extensions": {
     "jupyter_dashboards": {
      "version": 1,
      "views": {
       "grid_default": {},
       "report_default": {}
      }
     }
    }
   },
   "outputs": [],
   "source": [
    "# colors=[\"gold\",\"yellow\",\"green\",\"lightcoral\",\"lightskyblue\",\"red\",\"cyan\"]\n",
    "# plt.pie(mean_val_2_week,labels=week_days,colors=colors,autopct='%1.1f%%',shadow=True, startangle=90)\n",
    "# plt.axis('equal')\n",
    "# plt.show()"
   ]
  },
  {
   "cell_type": "code",
   "execution_count": 123,
   "metadata": {
    "extensions": {
     "jupyter_dashboards": {
      "version": 1,
      "views": {
       "grid_default": {},
       "report_default": {}
      }
     }
    }
   },
   "outputs": [
    {
     "name": "stderr",
     "output_type": "stream",
     "text": [
      "/home/ashish/miniconda3/lib/python3.7/site-packages/ipykernel_launcher.py:16: SettingWithCopyWarning: \n",
      "A value is trying to be set on a copy of a slice from a DataFrame.\n",
      "Try using .loc[row_indexer,col_indexer] = value instead\n",
      "\n",
      "See the caveats in the documentation: http://pandas.pydata.org/pandas-docs/stable/indexing.html#indexing-view-versus-copy\n",
      "  app.launch_new_instance()\n",
      "/home/ashish/miniconda3/lib/python3.7/site-packages/ipykernel_launcher.py:28: SettingWithCopyWarning: \n",
      "A value is trying to be set on a copy of a slice from a DataFrame.\n",
      "Try using .loc[row_indexer,col_indexer] = value instead\n",
      "\n",
      "See the caveats in the documentation: http://pandas.pydata.org/pandas-docs/stable/indexing.html#indexing-view-versus-copy\n",
      "/home/ashish/miniconda3/lib/python3.7/site-packages/ipykernel_launcher.py:42: SettingWithCopyWarning: \n",
      "A value is trying to be set on a copy of a slice from a DataFrame.\n",
      "Try using .loc[row_indexer,col_indexer] = value instead\n",
      "\n",
      "See the caveats in the documentation: http://pandas.pydata.org/pandas-docs/stable/indexing.html#indexing-view-versus-copy\n",
      "/home/ashish/miniconda3/lib/python3.7/site-packages/ipykernel_launcher.py:54: SettingWithCopyWarning: \n",
      "A value is trying to be set on a copy of a slice from a DataFrame.\n",
      "Try using .loc[row_indexer,col_indexer] = value instead\n",
      "\n",
      "See the caveats in the documentation: http://pandas.pydata.org/pandas-docs/stable/indexing.html#indexing-view-versus-copy\n",
      "/home/ashish/miniconda3/lib/python3.7/site-packages/ipykernel_launcher.py:68: SettingWithCopyWarning: \n",
      "A value is trying to be set on a copy of a slice from a DataFrame.\n",
      "Try using .loc[row_indexer,col_indexer] = value instead\n",
      "\n",
      "See the caveats in the documentation: http://pandas.pydata.org/pandas-docs/stable/indexing.html#indexing-view-versus-copy\n",
      "/home/ashish/miniconda3/lib/python3.7/site-packages/ipykernel_launcher.py:80: SettingWithCopyWarning: \n",
      "A value is trying to be set on a copy of a slice from a DataFrame.\n",
      "Try using .loc[row_indexer,col_indexer] = value instead\n",
      "\n",
      "See the caveats in the documentation: http://pandas.pydata.org/pandas-docs/stable/indexing.html#indexing-view-versus-copy\n"
     ]
    }
   ],
   "source": [
    "##pm25_values dataframe for all 3  #mean_hourly\n",
    "\n",
    "#bhaisipati\n",
    "mean_val_1 =[]\n",
    "mean_val_1_week = []\n",
    "x_hour = []\n",
    "for i in range(24):\n",
    "    x_hour.append(i)\n",
    "    mean_val_1.append(df_bhaisipati_pm25.loc[df_bhaisipati_pm25['time_hourly'] == i].value.mean())\n",
    "    \n",
    "x = list(df_bhaisipati_pm25[\"time_hourly\"])\n",
    "mean_list_1 = [0]* len(x)\n",
    "for idx, val in enumerate(x):\n",
    "    mean_list_1[idx]=mean_val_1[val]\n",
    "    \n",
    "df_bhaisipati_pm25[\"mean_hourly\"] = mean_list_1\n",
    "\n",
    "for j in range(7):\n",
    "    mean_val_1_week.append(df_bhaisipati_pm25.loc[df_bhaisipati_pm25['Day'] == week_days[j]].value.mean())\n",
    "    \n",
    "    \n",
    "x_1 = list(df_bhaisipati_pm25[\"Day\"])\n",
    "mean_list_1_week = [0] * len(x_1)\n",
    "for idx, val in enumerate(x_1):\n",
    "    mean_list_1_week[idx]=mean_val_1_week[week_days.index(val)]\n",
    "    \n",
    "    \n",
    "df_bhaisipati_pm25[\"mean_days\"] = mean_list_1_week\n",
    "pylab.plot(x_hour, mean_val_1, '-b', label='bhaisipati_pm25')\n",
    "\n",
    "\n",
    "#sauraha  \n",
    "mean_val_2 =[]\n",
    "for i in range(24):\n",
    "    mean_val_2.append(df_sauraha_pm25.loc[df_sauraha_pm25['time_hourly'] == i].value.mean())\n",
    "    \n",
    "x = list(df_sauraha_pm25[\"time_hourly\"])   \n",
    "mean_list_2 = [0]* len(x)\n",
    "for idx, val in enumerate(x):\n",
    "    mean_list_2[idx]=mean_val_2[val]\n",
    "    \n",
    "df_sauraha_pm25[\"mean_hourly\"] = mean_list_2\n",
    "\n",
    "mean_val_2_week =[]\n",
    "for j in range(7):\n",
    "    mean_val_2_week.append(df_sauraha_pm25.loc[df_sauraha_pm25['Day'] == week_days[j]].value.mean())\n",
    "    \n",
    "    \n",
    "x_1 = list(df_sauraha_pm25[\"Day\"])\n",
    "mean_list_2_week = [0] * len(x_1)\n",
    "for idx, val in enumerate(x_1):\n",
    "    mean_list_2_week[idx]=mean_val_2_week[week_days.index(val)]\n",
    "    \n",
    "df_sauraha_pm25[\"mean_days\"] = mean_list_2_week\n",
    "pylab.plot(x_hour, mean_val_2, '-r', label='sauraha_pm25')\n",
    "\n",
    "\n",
    "#ratnapark \n",
    "mean_val_3 =[]\n",
    "for i in range(24):\n",
    "    mean_val_3.append(df_ratnapark_pm25.loc[df_ratnapark_pm25['time_hourly'] == i].value.mean())\n",
    "    \n",
    "x = list(df_ratnapark_pm25[\"time_hourly\"]) \n",
    "mean_list_3 = [0]* len(x)\n",
    "for idx, val in enumerate(x):\n",
    "    mean_list_3[idx]=mean_val_3[val]\n",
    "    \n",
    "df_ratnapark_pm25[\"mean_hourly\"] = mean_list_3 \n",
    "\n",
    "mean_val_3_week =[]\n",
    "for j in range(7):\n",
    "    mean_val_3_week.append(df_ratnapark_pm25[df_ratnapark_pm25['Day'] == week_days[j]].value.mean())\n",
    "    \n",
    "    \n",
    "x_1 = list(df_ratnapark_pm25[\"Day\"])\n",
    "mean_list_3_week = [0] * len(x_1)\n",
    "for idx, val in enumerate(x_1):\n",
    "    mean_list_3_week[idx]=mean_val_3_week[week_days.index(val)]\n",
    "    \n",
    "df_ratnapark_pm25[\"mean_days\"] = mean_list_3_week\n",
    "pylab.plot(x_hour, mean_val_3, '-g', label='ratnapark_pm25')\n",
    "\n",
    "pylab.legend(loc='upper left')\n",
    "pylab.show()\n"
   ]
  },
  {
   "cell_type": "code",
   "execution_count": 124,
   "metadata": {
    "extensions": {
     "jupyter_dashboards": {
      "version": 1,
      "views": {
       "grid_default": {},
       "report_default": {}
      }
     }
    }
   },
   "outputs": [],
   "source": [
    "# pylab.plot(x_week, mean_val_1_week, '-b', label='bhaisipati_pm25')\n",
    "# pylab.plot(x_week, mean_val_2_week, '-r', label='sauraha_pm25')\n",
    "# pylab.plot(x_week, mean_val_3_week, '-g', label='ratnapark_pm25')\n",
    "# pylab.legend(loc='upper left')\n",
    "# pylab.show()\n"
   ]
  },
  {
   "cell_type": "code",
   "execution_count": 125,
   "metadata": {
    "extensions": {
     "jupyter_dashboards": {
      "version": 1,
      "views": {
       "grid_default": {},
       "report_default": {}
      }
     }
    }
   },
   "outputs": [
    {
     "name": "stderr",
     "output_type": "stream",
     "text": [
      "/home/ashish/miniconda3/lib/python3.7/site-packages/ipykernel_launcher.py:16: SettingWithCopyWarning: \n",
      "A value is trying to be set on a copy of a slice from a DataFrame.\n",
      "Try using .loc[row_indexer,col_indexer] = value instead\n",
      "\n",
      "See the caveats in the documentation: http://pandas.pydata.org/pandas-docs/stable/indexing.html#indexing-view-versus-copy\n",
      "  app.launch_new_instance()\n",
      "/home/ashish/miniconda3/lib/python3.7/site-packages/ipykernel_launcher.py:28: SettingWithCopyWarning: \n",
      "A value is trying to be set on a copy of a slice from a DataFrame.\n",
      "Try using .loc[row_indexer,col_indexer] = value instead\n",
      "\n",
      "See the caveats in the documentation: http://pandas.pydata.org/pandas-docs/stable/indexing.html#indexing-view-versus-copy\n",
      "/home/ashish/miniconda3/lib/python3.7/site-packages/ipykernel_launcher.py:42: SettingWithCopyWarning: \n",
      "A value is trying to be set on a copy of a slice from a DataFrame.\n",
      "Try using .loc[row_indexer,col_indexer] = value instead\n",
      "\n",
      "See the caveats in the documentation: http://pandas.pydata.org/pandas-docs/stable/indexing.html#indexing-view-versus-copy\n",
      "/home/ashish/miniconda3/lib/python3.7/site-packages/ipykernel_launcher.py:54: SettingWithCopyWarning: \n",
      "A value is trying to be set on a copy of a slice from a DataFrame.\n",
      "Try using .loc[row_indexer,col_indexer] = value instead\n",
      "\n",
      "See the caveats in the documentation: http://pandas.pydata.org/pandas-docs/stable/indexing.html#indexing-view-versus-copy\n",
      "/home/ashish/miniconda3/lib/python3.7/site-packages/ipykernel_launcher.py:68: SettingWithCopyWarning: \n",
      "A value is trying to be set on a copy of a slice from a DataFrame.\n",
      "Try using .loc[row_indexer,col_indexer] = value instead\n",
      "\n",
      "See the caveats in the documentation: http://pandas.pydata.org/pandas-docs/stable/indexing.html#indexing-view-versus-copy\n",
      "/home/ashish/miniconda3/lib/python3.7/site-packages/ipykernel_launcher.py:80: SettingWithCopyWarning: \n",
      "A value is trying to be set on a copy of a slice from a DataFrame.\n",
      "Try using .loc[row_indexer,col_indexer] = value instead\n",
      "\n",
      "See the caveats in the documentation: http://pandas.pydata.org/pandas-docs/stable/indexing.html#indexing-view-versus-copy\n"
     ]
    }
   ],
   "source": [
    "##pm1_values dataframe for all 3  #mean_hourly\n",
    "\n",
    "#bhaisipati\n",
    "mean_val_1 =[]\n",
    "x_hour = []\n",
    "mean_val_1_week = []\n",
    "for i in range(24):\n",
    "    x_hour.append(i)\n",
    "    mean_val_1.append(df_bhaisipati_pm1.loc[df_bhaisipati_pm1['time_hourly'] == i].value.mean())\n",
    "    \n",
    "x = list(df_bhaisipati_pm1[\"time_hourly\"])\n",
    "mean_list_1 = [0]* len(x)\n",
    "for idx, val in enumerate(x):\n",
    "    mean_list_1[idx]=mean_val_1[val]\n",
    "    \n",
    "df_bhaisipati_pm1[\"mean_hourly\"] = mean_list_1\n",
    "\n",
    "for j in range(7):\n",
    "    mean_val_1_week.append(df_bhaisipati_pm1.loc[df_bhaisipati_pm1['Day'] == week_days[j]].value.mean())\n",
    "    \n",
    "    \n",
    "x_1 = list(df_bhaisipati_pm1[\"Day\"])\n",
    "mean_list_1_week = [0] * len(x_1)\n",
    "for idx, val in enumerate(x_1):\n",
    "    mean_list_1_week[idx]=mean_val_1_week[week_days.index(val)]\n",
    "    \n",
    "    \n",
    "df_bhaisipati_pm1[\"mean_days\"] = mean_list_1_week\n",
    "pylab.plot(x_hour, mean_val_1, '-y', label='bhaisipati_pm1')\n",
    "\n",
    "\n",
    "#sauraha  \n",
    "mean_val_2 =[]\n",
    "for i in range(24):\n",
    "    mean_val_2.append(df_sauraha_pm1.loc[df_sauraha_pm1['time_hourly'] == i].value.mean())\n",
    "    \n",
    "x = list(df_sauraha_pm1[\"time_hourly\"])   \n",
    "mean_list_2 = [0]* len(x)\n",
    "for idx, val in enumerate(x):\n",
    "    mean_list_2[idx]=mean_val_2[val]\n",
    "    \n",
    "df_sauraha_pm1[\"mean_hourly\"] = mean_list_2\n",
    "\n",
    "mean_val_2_week =[]\n",
    "for j in range(7):\n",
    "    mean_val_2_week.append(df_sauraha_pm1.loc[df_sauraha_pm1['Day'] == week_days[j]].value.mean())\n",
    "    \n",
    "    \n",
    "x_1 = list(df_sauraha_pm1[\"Day\"])\n",
    "mean_list_2_week = [0] * len(x_1)\n",
    "for idx, val in enumerate(x_1):\n",
    "    mean_list_2_week[idx]=mean_val_2_week[week_days.index(val)]\n",
    "    \n",
    "df_sauraha_pm1[\"mean_days\"] = mean_list_2_week\n",
    "pylab.plot(x_hour, mean_val_2, '-k', label='sauraha_pm1')\n",
    "\n",
    "\n",
    "#ratnapark \n",
    "mean_val_3 =[]\n",
    "for i in range(24):\n",
    "    mean_val_3.append(df_ratnapark_pm1.loc[df_ratnapark_pm1['time_hourly'] == i].value.mean())\n",
    "    \n",
    "x = list(df_ratnapark_pm1[\"time_hourly\"]) \n",
    "mean_list_3 = [0]* len(x)\n",
    "for idx, val in enumerate(x):\n",
    "    mean_list_3[idx]=mean_val_3[val]\n",
    "    \n",
    "df_ratnapark_pm1[\"mean_hourly\"] = mean_list_3 \n",
    "\n",
    "mean_val_3_week =[]\n",
    "for j in range(7):\n",
    "    mean_val_3_week.append(df_ratnapark_pm1.loc[df_ratnapark_pm1['Day'] == week_days[j]].value.mean())\n",
    "    \n",
    "    \n",
    "x_1 = list(df_ratnapark_pm1[\"Day\"])\n",
    "mean_list_3_week = [0] * len(x_1)\n",
    "for idx, val in enumerate(x_1):\n",
    "    mean_list_3_week[idx]=mean_val_3_week[week_days.index(val)]\n",
    "    \n",
    "df_ratnapark_pm1[\"mean_days\"] = mean_list_3_week\n",
    "pylab.plot(x_hour, mean_val_3, '-c8', label='ratnapark_pm1')\n",
    "\n",
    "pylab.legend(loc='upper left')\n",
    "pylab.show()\n"
   ]
  },
  {
   "cell_type": "code",
   "execution_count": 126,
   "metadata": {
    "extensions": {
     "jupyter_dashboards": {
      "version": 1,
      "views": {
       "grid_default": {},
       "report_default": {}
      }
     }
    }
   },
   "outputs": [],
   "source": [
    "# pylab.plot(x_week, mean_val_1_week, '-b', label='bhaisipati_pm1')\n",
    "# pylab.plot(x_week, mean_val_2_week, '-r', label='sauraha_pm1')\n",
    "# pylab.plot(x_week, mean_val_3_week, '-g', label='ratnapark_pm1')\n",
    "# pylab.legend(loc='upper left')\n",
    "# pylab.show()"
   ]
  },
  {
   "cell_type": "code",
   "execution_count": 127,
   "metadata": {
    "extensions": {
     "jupyter_dashboards": {
      "version": 1,
      "views": {
       "grid_default": {},
       "report_default": {}
      }
     }
    }
   },
   "outputs": [
    {
     "name": "stderr",
     "output_type": "stream",
     "text": [
      "/home/ashish/miniconda3/lib/python3.7/site-packages/ipykernel_launcher.py:16: SettingWithCopyWarning: \n",
      "A value is trying to be set on a copy of a slice from a DataFrame.\n",
      "Try using .loc[row_indexer,col_indexer] = value instead\n",
      "\n",
      "See the caveats in the documentation: http://pandas.pydata.org/pandas-docs/stable/indexing.html#indexing-view-versus-copy\n",
      "  app.launch_new_instance()\n",
      "/home/ashish/miniconda3/lib/python3.7/site-packages/ipykernel_launcher.py:29: SettingWithCopyWarning: \n",
      "A value is trying to be set on a copy of a slice from a DataFrame.\n",
      "Try using .loc[row_indexer,col_indexer] = value instead\n",
      "\n",
      "See the caveats in the documentation: http://pandas.pydata.org/pandas-docs/stable/indexing.html#indexing-view-versus-copy\n"
     ]
    },
    {
     "ename": "ValueError",
     "evalue": "Unrecognized character 9 in format string",
     "output_type": "error",
     "traceback": [
      "\u001b[0;31m---------------------------------------------------------------------------\u001b[0m",
      "\u001b[0;31mValueError\u001b[0m                                Traceback (most recent call last)",
      "\u001b[0;32m<ipython-input-127-8e6182d2f6d9>\u001b[0m in \u001b[0;36m<module>\u001b[0;34m\u001b[0m\n\u001b[1;32m     28\u001b[0m \u001b[0;34m\u001b[0m\u001b[0m\n\u001b[1;32m     29\u001b[0m \u001b[0mdf_bhaisipati_pm10\u001b[0m\u001b[0;34m[\u001b[0m\u001b[0;34m\"mean_days\"\u001b[0m\u001b[0;34m]\u001b[0m \u001b[0;34m=\u001b[0m \u001b[0mmean_list_1_week\u001b[0m\u001b[0;34m\u001b[0m\u001b[0;34m\u001b[0m\u001b[0m\n\u001b[0;32m---> 30\u001b[0;31m \u001b[0mpylab\u001b[0m\u001b[0;34m.\u001b[0m\u001b[0mplot\u001b[0m\u001b[0;34m(\u001b[0m\u001b[0mx_hour\u001b[0m\u001b[0;34m,\u001b[0m \u001b[0mmean_val_1\u001b[0m\u001b[0;34m,\u001b[0m \u001b[0;34m'-c9'\u001b[0m\u001b[0;34m,\u001b[0m \u001b[0mlabel\u001b[0m\u001b[0;34m=\u001b[0m\u001b[0;34m'bhaisipati_pm10'\u001b[0m\u001b[0;34m)\u001b[0m\u001b[0;34m\u001b[0m\u001b[0;34m\u001b[0m\u001b[0m\n\u001b[0m\u001b[1;32m     31\u001b[0m \u001b[0;34m\u001b[0m\u001b[0m\n\u001b[1;32m     32\u001b[0m \u001b[0;34m\u001b[0m\u001b[0m\n",
      "\u001b[0;32m~/miniconda3/lib/python3.7/site-packages/matplotlib/pyplot.py\u001b[0m in \u001b[0;36mplot\u001b[0;34m(scalex, scaley, data, *args, **kwargs)\u001b[0m\n\u001b[1;32m   2787\u001b[0m     return gca().plot(\n\u001b[1;32m   2788\u001b[0m         *args, scalex=scalex, scaley=scaley, **({\"data\": data} if data\n\u001b[0;32m-> 2789\u001b[0;31m         is not None else {}), **kwargs)\n\u001b[0m\u001b[1;32m   2790\u001b[0m \u001b[0;34m\u001b[0m\u001b[0m\n\u001b[1;32m   2791\u001b[0m \u001b[0;34m\u001b[0m\u001b[0m\n",
      "\u001b[0;32m~/miniconda3/lib/python3.7/site-packages/matplotlib/axes/_axes.py\u001b[0m in \u001b[0;36mplot\u001b[0;34m(self, scalex, scaley, data, *args, **kwargs)\u001b[0m\n\u001b[1;32m   1664\u001b[0m         \"\"\"\n\u001b[1;32m   1665\u001b[0m         \u001b[0mkwargs\u001b[0m \u001b[0;34m=\u001b[0m \u001b[0mcbook\u001b[0m\u001b[0;34m.\u001b[0m\u001b[0mnormalize_kwargs\u001b[0m\u001b[0;34m(\u001b[0m\u001b[0mkwargs\u001b[0m\u001b[0;34m,\u001b[0m \u001b[0mmlines\u001b[0m\u001b[0;34m.\u001b[0m\u001b[0mLine2D\u001b[0m\u001b[0;34m.\u001b[0m\u001b[0m_alias_map\u001b[0m\u001b[0;34m)\u001b[0m\u001b[0;34m\u001b[0m\u001b[0;34m\u001b[0m\u001b[0m\n\u001b[0;32m-> 1666\u001b[0;31m         \u001b[0mlines\u001b[0m \u001b[0;34m=\u001b[0m \u001b[0;34m[\u001b[0m\u001b[0;34m*\u001b[0m\u001b[0mself\u001b[0m\u001b[0;34m.\u001b[0m\u001b[0m_get_lines\u001b[0m\u001b[0;34m(\u001b[0m\u001b[0;34m*\u001b[0m\u001b[0margs\u001b[0m\u001b[0;34m,\u001b[0m \u001b[0mdata\u001b[0m\u001b[0;34m=\u001b[0m\u001b[0mdata\u001b[0m\u001b[0;34m,\u001b[0m \u001b[0;34m**\u001b[0m\u001b[0mkwargs\u001b[0m\u001b[0;34m)\u001b[0m\u001b[0;34m]\u001b[0m\u001b[0;34m\u001b[0m\u001b[0;34m\u001b[0m\u001b[0m\n\u001b[0m\u001b[1;32m   1667\u001b[0m         \u001b[0;32mfor\u001b[0m \u001b[0mline\u001b[0m \u001b[0;32min\u001b[0m \u001b[0mlines\u001b[0m\u001b[0;34m:\u001b[0m\u001b[0;34m\u001b[0m\u001b[0;34m\u001b[0m\u001b[0m\n\u001b[1;32m   1668\u001b[0m             \u001b[0mself\u001b[0m\u001b[0;34m.\u001b[0m\u001b[0madd_line\u001b[0m\u001b[0;34m(\u001b[0m\u001b[0mline\u001b[0m\u001b[0;34m)\u001b[0m\u001b[0;34m\u001b[0m\u001b[0;34m\u001b[0m\u001b[0m\n",
      "\u001b[0;32m~/miniconda3/lib/python3.7/site-packages/matplotlib/axes/_base.py\u001b[0m in \u001b[0;36m__call__\u001b[0;34m(self, *args, **kwargs)\u001b[0m\n\u001b[1;32m    223\u001b[0m                 \u001b[0mthis\u001b[0m \u001b[0;34m+=\u001b[0m \u001b[0margs\u001b[0m\u001b[0;34m[\u001b[0m\u001b[0;36m0\u001b[0m\u001b[0;34m]\u001b[0m\u001b[0;34m,\u001b[0m\u001b[0;34m\u001b[0m\u001b[0;34m\u001b[0m\u001b[0m\n\u001b[1;32m    224\u001b[0m                 \u001b[0margs\u001b[0m \u001b[0;34m=\u001b[0m \u001b[0margs\u001b[0m\u001b[0;34m[\u001b[0m\u001b[0;36m1\u001b[0m\u001b[0;34m:\u001b[0m\u001b[0;34m]\u001b[0m\u001b[0;34m\u001b[0m\u001b[0;34m\u001b[0m\u001b[0m\n\u001b[0;32m--> 225\u001b[0;31m             \u001b[0;32myield\u001b[0m \u001b[0;32mfrom\u001b[0m \u001b[0mself\u001b[0m\u001b[0;34m.\u001b[0m\u001b[0m_plot_args\u001b[0m\u001b[0;34m(\u001b[0m\u001b[0mthis\u001b[0m\u001b[0;34m,\u001b[0m \u001b[0mkwargs\u001b[0m\u001b[0;34m)\u001b[0m\u001b[0;34m\u001b[0m\u001b[0;34m\u001b[0m\u001b[0m\n\u001b[0m\u001b[1;32m    226\u001b[0m \u001b[0;34m\u001b[0m\u001b[0m\n\u001b[1;32m    227\u001b[0m     \u001b[0;32mdef\u001b[0m \u001b[0mget_next_color\u001b[0m\u001b[0;34m(\u001b[0m\u001b[0mself\u001b[0m\u001b[0;34m)\u001b[0m\u001b[0;34m:\u001b[0m\u001b[0;34m\u001b[0m\u001b[0;34m\u001b[0m\u001b[0m\n",
      "\u001b[0;32m~/miniconda3/lib/python3.7/site-packages/matplotlib/axes/_base.py\u001b[0m in \u001b[0;36m_plot_args\u001b[0;34m(self, tup, kwargs)\u001b[0m\n\u001b[1;32m    364\u001b[0m         \u001b[0mret\u001b[0m \u001b[0;34m=\u001b[0m \u001b[0;34m[\u001b[0m\u001b[0;34m]\u001b[0m\u001b[0;34m\u001b[0m\u001b[0;34m\u001b[0m\u001b[0m\n\u001b[1;32m    365\u001b[0m         \u001b[0;32mif\u001b[0m \u001b[0mlen\u001b[0m\u001b[0;34m(\u001b[0m\u001b[0mtup\u001b[0m\u001b[0;34m)\u001b[0m \u001b[0;34m>\u001b[0m \u001b[0;36m1\u001b[0m \u001b[0;32mand\u001b[0m \u001b[0misinstance\u001b[0m\u001b[0;34m(\u001b[0m\u001b[0mtup\u001b[0m\u001b[0;34m[\u001b[0m\u001b[0;34m-\u001b[0m\u001b[0;36m1\u001b[0m\u001b[0;34m]\u001b[0m\u001b[0;34m,\u001b[0m \u001b[0mstr\u001b[0m\u001b[0;34m)\u001b[0m\u001b[0;34m:\u001b[0m\u001b[0;34m\u001b[0m\u001b[0;34m\u001b[0m\u001b[0m\n\u001b[0;32m--> 366\u001b[0;31m             \u001b[0mlinestyle\u001b[0m\u001b[0;34m,\u001b[0m \u001b[0mmarker\u001b[0m\u001b[0;34m,\u001b[0m \u001b[0mcolor\u001b[0m \u001b[0;34m=\u001b[0m \u001b[0m_process_plot_format\u001b[0m\u001b[0;34m(\u001b[0m\u001b[0mtup\u001b[0m\u001b[0;34m[\u001b[0m\u001b[0;34m-\u001b[0m\u001b[0;36m1\u001b[0m\u001b[0;34m]\u001b[0m\u001b[0;34m)\u001b[0m\u001b[0;34m\u001b[0m\u001b[0;34m\u001b[0m\u001b[0m\n\u001b[0m\u001b[1;32m    367\u001b[0m             \u001b[0mtup\u001b[0m \u001b[0;34m=\u001b[0m \u001b[0mtup\u001b[0m\u001b[0;34m[\u001b[0m\u001b[0;34m:\u001b[0m\u001b[0;34m-\u001b[0m\u001b[0;36m1\u001b[0m\u001b[0;34m]\u001b[0m\u001b[0;34m\u001b[0m\u001b[0;34m\u001b[0m\u001b[0m\n\u001b[1;32m    368\u001b[0m         \u001b[0;32melif\u001b[0m \u001b[0mlen\u001b[0m\u001b[0;34m(\u001b[0m\u001b[0mtup\u001b[0m\u001b[0;34m)\u001b[0m \u001b[0;34m==\u001b[0m \u001b[0;36m3\u001b[0m\u001b[0;34m:\u001b[0m\u001b[0;34m\u001b[0m\u001b[0;34m\u001b[0m\u001b[0m\n",
      "\u001b[0;32m~/miniconda3/lib/python3.7/site-packages/matplotlib/axes/_base.py\u001b[0m in \u001b[0;36m_process_plot_format\u001b[0;34m(fmt)\u001b[0m\n\u001b[1;32m    104\u001b[0m         \u001b[0;32melse\u001b[0m\u001b[0;34m:\u001b[0m\u001b[0;34m\u001b[0m\u001b[0;34m\u001b[0m\u001b[0m\n\u001b[1;32m    105\u001b[0m             raise ValueError(\n\u001b[0;32m--> 106\u001b[0;31m                 'Unrecognized character %c in format string' % c)\n\u001b[0m\u001b[1;32m    107\u001b[0m \u001b[0;34m\u001b[0m\u001b[0m\n\u001b[1;32m    108\u001b[0m     \u001b[0;32mif\u001b[0m \u001b[0mlinestyle\u001b[0m \u001b[0;32mis\u001b[0m \u001b[0;32mNone\u001b[0m \u001b[0;32mand\u001b[0m \u001b[0mmarker\u001b[0m \u001b[0;32mis\u001b[0m \u001b[0;32mNone\u001b[0m\u001b[0;34m:\u001b[0m\u001b[0;34m\u001b[0m\u001b[0;34m\u001b[0m\u001b[0m\n",
      "\u001b[0;31mValueError\u001b[0m: Unrecognized character 9 in format string"
     ]
    }
   ],
   "source": [
    "##pm10_values dataframe for all 3  #mean_hourly\n",
    "\n",
    "#bhaisipati\n",
    "mean_val_1 =[]\n",
    "x_hour = []\n",
    "mean_val_1_week =[]\n",
    "for i in range(24):\n",
    "    x_hour.append(i)\n",
    "    mean_val_1.append(df_bhaisipati_pm10.loc[df_bhaisipati_pm10['time_hourly'] == i].value.mean())\n",
    "    \n",
    "x = list(df_bhaisipati_pm10[\"time_hourly\"])\n",
    "mean_list_1 = [0]* len(x)\n",
    "for idx, val in enumerate(x):\n",
    "    mean_list_1[idx]=mean_val_1[val]\n",
    "    \n",
    "df_bhaisipati_pm10[\"mean_hourly\"] = mean_list_1\n",
    "\n",
    "\n",
    "for j in range(7):\n",
    "    mean_val_1_week.append(df_bhaisipati_pm10.loc[df_bhaisipati_pm10['Day'] == week_days[j]].value.mean())\n",
    "    \n",
    "    \n",
    "x_1 = list(df_bhaisipati_pm10[\"Day\"])\n",
    "mean_list_1_week = [0] * len(x_1)\n",
    "for idx, val in enumerate(x_1):\n",
    "    mean_list_1_week[idx]=mean_val_1_week[week_days.index(val)]\n",
    "    \n",
    "    \n",
    "df_bhaisipati_pm10[\"mean_days\"] = mean_list_1_week\n",
    "pylab.plot(x_hour, mean_val_1, '-c9', label='bhaisipati_pm10')\n",
    "\n",
    "\n",
    "#sauraha  \n",
    "mean_val_2 =[]\n",
    "for i in range(24):\n",
    "    mean_val_2.append(df_sauraha_pm10.loc[df_sauraha_pm10['time_hourly'] == i].value.mean())\n",
    "    \n",
    "x = list(df_sauraha_pm10[\"time_hourly\"])   \n",
    "mean_list_2 = [0]* len(x)\n",
    "for idx, val in enumerate(x):\n",
    "    mean_list_2[idx]=mean_val_2[val]\n",
    "    \n",
    "df_sauraha_pm10[\"mean_hourly\"] = mean_list_2\n",
    "\n",
    "mean_val_2_week =[]\n",
    "for j in range(7):\n",
    "    mean_val_2_week.append(df_sauraha_pm10[df_sauraha_pm10['Day'] == week_days[j]].value.mean())\n",
    "    \n",
    "    \n",
    "x_1 = list(df_sauraha_pm10[\"Day\"])\n",
    "mean_list_2_week = [0] * len(x_1)\n",
    "for idx, val in enumerate(x_1):\n",
    "    mean_list_2_week[idx]=mean_val_2_week[week_days.index(val)]\n",
    "    \n",
    "df_sauraha_pm10[\"mean_days\"] = mean_list_2_week\n",
    "pylab.plot(x_hour, mean_val_2, '-c10', label='sauraha_pm10')\n",
    "\n",
    "\n",
    "#ratnapark \n",
    "mean_val_3 =[]\n",
    "for i in range(24):\n",
    "    mean_val_3.append(df_ratnapark_pm10.loc[df_ratnapark_pm10['time_hourly'] == i].value.mean())\n",
    "    \n",
    "x = list(df_ratnapark_pm10[\"time_hourly\"]) \n",
    "mean_list_3 = [0]* len(x)\n",
    "for idx, val in enumerate(x):\n",
    "    mean_list_3[idx]=mean_val_3[val]\n",
    "    \n",
    "df_ratnapark_pm10[\"mean_hourly\"] = mean_list_3 \n",
    "\n",
    "mean_val_3_week =[]\n",
    "for j in range(7):\n",
    "    mean_val_3_week.append(df_ratnapark_pm10[df_ratnapark_pm10['Day'] == week_days[j]].value.mean())\n",
    "    \n",
    "    \n",
    "x_1 = list(df_ratnapark_pm10[\"Day\"])\n",
    "mean_list_3_week = [0] * len(x_1)\n",
    "for idx, val in enumerate(x_1):\n",
    "    mean_list_3_week[idx]=mean_val_3_week[week_days.index(val)]\n",
    "    \n",
    "df_ratnapark_pm10[\"mean_days\"] = mean_list_3_week\n",
    "pylab.plot(x_hour, mean_val_3, '-c11', label='ratnapark_pm10')\n",
    "\n",
    "pylab.legend(loc='upper left')\n",
    "pylab.show()\n"
   ]
  },
  {
   "cell_type": "code",
   "execution_count": null,
   "metadata": {
    "extensions": {
     "jupyter_dashboards": {
      "version": 1,
      "views": {
       "grid_default": {},
       "report_default": {}
      }
     }
    }
   },
   "outputs": [],
   "source": [
    "# pylab.plot(x_week, mean_val_1_week, '-b', label='bhaisipati_pm10')\n",
    "# pylab.plot(x_week, mean_val_2_week, '-r', label='sauraha_pm10')\n",
    "# pylab.plot(x_week, mean_val_3_week, '-g', label='ratnapark_pm10')\n",
    "# pylab.legend(loc='upper left')\n",
    "# pylab.show()"
   ]
  },
  {
   "cell_type": "code",
   "execution_count": null,
   "metadata": {
    "extensions": {
     "jupyter_dashboards": {
      "version": 1,
      "views": {
       "grid_default": {},
       "report_default": {}
      }
     }
    }
   },
   "outputs": [],
   "source": [
    "#BlackCarbon only for ratnapark  #mean_hourly\n",
    "\n",
    "#ratnapark \n",
    "mean_val =[]\n",
    "for i in range(24):\n",
    "    mean_val.append(df_ratnapark_blackcarbon.loc[df_ratnapark_blackcarbon['time_hourly'] == i].value.mean())\n",
    "    \n",
    "x = list(df_ratnapark_blackcarbon[\"time_hourly\"]) \n",
    "mean_list = [0]* len(x)\n",
    "for idx, val in enumerate(x):\n",
    "    mean_list[idx]=mean_val[val]\n",
    "    \n",
    "df_ratnapark_blackcarbon[\"mean_hourly\"] = mean_list \n",
    "pylab.plot(x_hour, mean_val_3, '-c12', label='ratnapark_blackcarbon')\n",
    "\n",
    "pylab.legend(loc='upper left')\n",
    "pylab.show()\n"
   ]
  },
  {
   "cell_type": "code",
   "execution_count": null,
   "metadata": {
    "extensions": {
     "jupyter_dashboards": {
      "version": 1,
      "views": {
       "grid_default": {},
       "report_default": {}
      }
     }
    }
   },
   "outputs": [],
   "source": []
  }
 ],
 "metadata": {
  "extensions": {
   "jupyter_dashboards": {
    "activeView": "grid_default",
    "version": 1,
    "views": {
     "grid_default": {
      "cellMargin": 10,
      "defaultCellHeight": 20,
      "maxColumns": 12,
      "name": "grid",
      "type": "grid"
     },
     "report_default": {
      "name": "report",
      "type": "report"
     }
    }
   }
  },
  "kernelspec": {
   "display_name": "Python 3",
   "language": "python",
   "name": "python3"
  },
  "language_info": {
   "codemirror_mode": {
    "name": "ipython",
    "version": 3
   },
   "file_extension": ".py",
   "mimetype": "text/x-python",
   "name": "python",
   "nbconvert_exporter": "python",
   "pygments_lexer": "ipython3",
   "version": "3.7.3"
  },
  "widgets": {
   "application/vnd.jupyter.widget-state+json": {
    "state": {},
    "version_major": 2,
    "version_minor": 0
   }
  }
 },
 "nbformat": 4,
 "nbformat_minor": 2
}
