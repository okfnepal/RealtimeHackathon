{
 "cells": [
  {
   "cell_type": "code",
   "execution_count": 2,
   "metadata": {},
   "outputs": [],
   "source": [
    "from numpy import mean\n",
    "from numpy import std\n",
    "from numpy.random import randn\n",
    "from numpy.random import seed\n",
    "from matplotlib import pyplot as plt"
   ]
  },
  {
   "cell_type": "code",
   "execution_count": 3,
   "metadata": {},
   "outputs": [],
   "source": [
    "import pandas as pd"
   ]
  },
  {
   "cell_type": "code",
   "execution_count": 4,
   "metadata": {},
   "outputs": [],
   "source": [
    "pkr_data = pd.read_csv(\"DHM, Pkr.csv\")"
   ]
  },
  {
   "cell_type": "code",
   "execution_count": 5,
   "metadata": {},
   "outputs": [
    {
     "data": {
      "text/html": [
       "<div>\n",
       "<style scoped>\n",
       "    .dataframe tbody tr th:only-of-type {\n",
       "        vertical-align: middle;\n",
       "    }\n",
       "\n",
       "    .dataframe tbody tr th {\n",
       "        vertical-align: top;\n",
       "    }\n",
       "\n",
       "    .dataframe thead th {\n",
       "        text-align: right;\n",
       "    }\n",
       "</style>\n",
       "<table border=\"1\" class=\"dataframe\">\n",
       "  <thead>\n",
       "    <tr style=\"text-align: right;\">\n",
       "      <th></th>\n",
       "      <th>stationName</th>\n",
       "      <th>parameters</th>\n",
       "      <th>value</th>\n",
       "      <th>localDateTime</th>\n",
       "      <th>unit</th>\n",
       "      <th>longitude</th>\n",
       "      <th>latitude</th>\n",
       "      <th>humidity</th>\n",
       "      <th>rainfall</th>\n",
       "      <th>airTemperature</th>\n",
       "      <th>windspeed</th>\n",
       "    </tr>\n",
       "  </thead>\n",
       "  <tbody>\n",
       "    <tr>\n",
       "      <th>0</th>\n",
       "      <td>DHM, Pkr</td>\n",
       "      <td>pm25</td>\n",
       "      <td>12.9</td>\n",
       "      <td>7/19/2019 0:18</td>\n",
       "      <td>µg/m3</td>\n",
       "      <td>83.97361</td>\n",
       "      <td>28.205817</td>\n",
       "      <td>77.0</td>\n",
       "      <td>60</td>\n",
       "      <td>24.2</td>\n",
       "      <td>3.5</td>\n",
       "    </tr>\n",
       "    <tr>\n",
       "      <th>1</th>\n",
       "      <td>DHM, Pkr</td>\n",
       "      <td>pm25</td>\n",
       "      <td>11.6</td>\n",
       "      <td>7/19/2019 0:38</td>\n",
       "      <td>µg/m3</td>\n",
       "      <td>83.97361</td>\n",
       "      <td>28.205817</td>\n",
       "      <td>77.0</td>\n",
       "      <td>60</td>\n",
       "      <td>24.2</td>\n",
       "      <td>3.5</td>\n",
       "    </tr>\n",
       "    <tr>\n",
       "      <th>2</th>\n",
       "      <td>DHM, Pkr</td>\n",
       "      <td>pm25</td>\n",
       "      <td>10.3</td>\n",
       "      <td>7/19/2019 0:58</td>\n",
       "      <td>µg/m3</td>\n",
       "      <td>83.97361</td>\n",
       "      <td>28.205817</td>\n",
       "      <td>77.0</td>\n",
       "      <td>60</td>\n",
       "      <td>24.2</td>\n",
       "      <td>3.5</td>\n",
       "    </tr>\n",
       "    <tr>\n",
       "      <th>3</th>\n",
       "      <td>DHM, Pkr</td>\n",
       "      <td>pm25</td>\n",
       "      <td>9.9</td>\n",
       "      <td>7/19/2019 1:18</td>\n",
       "      <td>µg/m3</td>\n",
       "      <td>83.97361</td>\n",
       "      <td>28.205817</td>\n",
       "      <td>77.0</td>\n",
       "      <td>60</td>\n",
       "      <td>24.2</td>\n",
       "      <td>3.5</td>\n",
       "    </tr>\n",
       "    <tr>\n",
       "      <th>4</th>\n",
       "      <td>DHM, Pkr</td>\n",
       "      <td>pm25</td>\n",
       "      <td>11.6</td>\n",
       "      <td>7/19/2019 1:38</td>\n",
       "      <td>µg/m3</td>\n",
       "      <td>83.97361</td>\n",
       "      <td>28.205817</td>\n",
       "      <td>77.0</td>\n",
       "      <td>60</td>\n",
       "      <td>24.2</td>\n",
       "      <td>3.5</td>\n",
       "    </tr>\n",
       "  </tbody>\n",
       "</table>\n",
       "</div>"
      ],
      "text/plain": [
       "  stationName parameters  value   localDateTime   unit  longitude   latitude  \\\n",
       "0    DHM, Pkr       pm25   12.9  7/19/2019 0:18  µg/m3   83.97361  28.205817   \n",
       "1    DHM, Pkr       pm25   11.6  7/19/2019 0:38  µg/m3   83.97361  28.205817   \n",
       "2    DHM, Pkr       pm25   10.3  7/19/2019 0:58  µg/m3   83.97361  28.205817   \n",
       "3    DHM, Pkr       pm25    9.9  7/19/2019 1:18  µg/m3   83.97361  28.205817   \n",
       "4    DHM, Pkr       pm25   11.6  7/19/2019 1:38  µg/m3   83.97361  28.205817   \n",
       "\n",
       "   humidity  rainfall  airTemperature  windspeed  \n",
       "0      77.0        60            24.2        3.5  \n",
       "1      77.0        60            24.2        3.5  \n",
       "2      77.0        60            24.2        3.5  \n",
       "3      77.0        60            24.2        3.5  \n",
       "4      77.0        60            24.2        3.5  "
      ]
     },
     "execution_count": 5,
     "metadata": {},
     "output_type": "execute_result"
    }
   ],
   "source": [
    "pkr_data.describe()\n",
    "pkr_data.head()"
   ]
  },
  {
   "cell_type": "code",
   "execution_count": 6,
   "metadata": {},
   "outputs": [
    {
     "name": "stdout",
     "output_type": "stream",
     "text": [
      "                   value  humidity  rainfall  airTemperature  windspeed\n",
      "value           1.000000 -0.159889  0.073550       -0.071141   0.014369\n",
      "humidity       -0.159889  1.000000  0.076905       -0.373023  -0.817604\n",
      "rainfall        0.073550  0.076905  1.000000       -0.355022   0.056271\n",
      "airTemperature -0.071141 -0.373023 -0.355022        1.000000   0.286949\n",
      "windspeed       0.014369 -0.817604  0.056271        0.286949   1.000000\n"
     ]
    },
    {
     "data": {
      "text/plain": [
       "[Text(0, 0, 'value'),\n",
       " Text(0, 0, 'humidity'),\n",
       " Text(0, 0, 'rainfall'),\n",
       " Text(0, 0, 'airTemperature')]"
      ]
     },
     "execution_count": 6,
     "metadata": {},
     "output_type": "execute_result"
    },
    {
     "data": {
      "image/png": "[encoded data removed]",
      "text/plain": [
       "<Figure size 720x720 with 2 Axes>"
      ]
     },
     "metadata": {
      "needs_background": "light"
     },
     "output_type": "display_data"
    }
   ],
   "source": [
    "import numpy as np\n",
    "names = ['value', 'humidity', 'rainfall', 'airTemperature']\n",
    "data = pkr_data.drop(['latitude', 'longitude'], axis=1)\n",
    "correlations = data.corr()\n",
    "# plot correlation matrix\n",
    "fig = plt.figure(figsize=(10, 10))\n",
    "ax = fig.add_subplot(111)\n",
    "cax = ax.matshow(correlations, vmin=-1, vmax=1)\n",
    "print(correlations)\n",
    "fig.colorbar(cax)\n",
    "ticks = np.arange(0,9,1)\n",
    "ax.set_xticks(ticks)\n",
    "ax.set_yticks(ticks)\n",
    "ax.set_xticklabels(names)\n",
    "ax.set_yticklabels(names)"
   ]
  },
  {
   "cell_type": "code",
   "execution_count": null,
   "metadata": {},
   "outputs": [],
   "source": []
  }
 ],
 "metadata": {
  "kernelspec": {
   "display_name": "Python 3",
   "language": "python",
   "name": "python3"
  },
  "language_info": {
   "codemirror_mode": {
    "name": "ipython",
    "version": 3
   },
   "file_extension": ".py",
   "mimetype": "text/x-python",
   "name": "python",
   "nbconvert_exporter": "python",
   "pygments_lexer": "ipython3",
   "version": "3.7.3"
  }
 },
 "nbformat": 4,
 "nbformat_minor": 2
}
